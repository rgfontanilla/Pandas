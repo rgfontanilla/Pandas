{
  "metadata": {
    "language_info": {
      "codemirror_mode": {
        "name": "python",
        "version": 3
      },
      "file_extension": ".py",
      "mimetype": "text/x-python",
      "name": "python",
      "nbconvert_exporter": "python",
      "pygments_lexer": "ipython3",
      "version": "3.8"
    },
    "kernelspec": {
      "name": "python",
      "display_name": "Python (Pyodide)",
      "language": "python"
    }
  },
  "nbformat_minor": 4,
  "nbformat": 4,
  "cells": [
    {
      "cell_type": "markdown",
      "source": "**Convert Into Correct Format**\n\nIn the DataFrama below, there are two cells with the wrong format. Cells 22 and 26 below differ in that they do not represent a string of dates.",
      "metadata": {}
    },
    {
      "cell_type": "code",
      "source": "import pandas as pd\n\ndf = pd.read_csv('healthrate.csv')\n\nprint(df.to_string())\n",
      "metadata": {
        "trusted": true
      },
      "execution_count": 18,
      "outputs": [
        {
          "name": "stdout",
          "text": "          Duration          Date  Pulse  Maxpulse  Calories\n0     0         60  '2020/12/01'    110       130     409.1\n1     1         60  '2020/12/02'    117       145     479.0\n2     2         60  '2020/12/03'    103       135     340.0\n3     3         45  '2020/12/04'    109       175     282.4\n4     4         45  '2020/12/05'    117       148     406.0\n5     5         60  '2020/12/06'    102       127     300.0\n6     6         60  '2020/12/07'    110       136     374.0\n7     7        450  '2020/12/08'    104       134     253.3\n8     8         30  '2020/12/09'    109       133     195.1\n9     9         60  '2020/12/10'     98       124     269.0\n10    10        60  '2020/12/11'    103       147     329.3\n11    11        60  '2020/12/12'    100       120     250.7\n12    12        60  '2020/12/12'    100       120     250.7\n13    13        60  '2020/12/13'    106       128     345.3\n14    14        60  '2020/12/14'    104       132     379.3\n15    15        60  '2020/12/15'     98       123     275.0\n16    16        60  '2020/12/16'     98       120     215.2\n17    17        60  '2020/12/17'    100       120     300.0\n18    18        45  '2020/12/18'     90       112       NaN\n19    19        60  '2020/12/19'    103       123     323.0\n20    20        45  '2020/12/20'     97       125     243.0\n21    21        60  '2020/12/21'    108       131     364.2\n22    22        45           NaN    100       119     282.0\n23    23        60  '2020/12/23'    130       101     300.0\n24    24        45  '2020/12/24'    105       132     246.0\n25    25        60  '2020/12/25'    102       126     334.5\n26    26        60      20201226    100       120     250.0\n27    27        60  '2020/12/27'     92       118     241.0\n28    28        60  '2020/12/28'    103       132       NaN\n29    29        60  '2020/12/29'    100       132     280.0\n30    30        60  '2020/12/30'    102       129     380.3\n31    31        60  '2020/12/31'     92       115     243.0\n",
          "output_type": "stream"
        }
      ]
    },
    {
      "cell_type": "markdown",
      "source": "Let's see if we can convert all of the cells in the 'Date' column to dates by using the to_datetime() method.",
      "metadata": {}
    },
    {
      "cell_type": "code",
      "source": "import pandas as pd\n\ndf = pd.read_csv('data.csv')\n\ndf['Date'] = pd.to_datetime(df['Date'])\n\nprint(df.to_string())\n",
      "metadata": {
        "trusted": true
      },
      "execution_count": 4,
      "outputs": [
        {
          "name": "stdout",
          "text": "    Duration       Date  Pulse  Maxpulse  Calories\n0         60 2020-12-01    110       130     409.1\n1         60 2020-12-02    117       145     479.0\n2         60 2020-12-03    103       135     340.0\n3         45 2020-12-04    109       175     282.4\n4         45 2020-12-05    117       148     406.0\n5         60 2020-12-06    102       127     300.0\n6         60 2020-12-07    110       136     374.0\n7        450 2020-12-08    104       134     253.3\n8         30 2020-12-09    109       133     195.1\n9         60 2020-12-10     98       124     269.0\n10        60 2020-12-11    103       147     329.3\n11        60 2020-12-12    100       120     250.7\n12        60 2020-12-12    100       120     250.7\n13        60 2020-12-13    106       128     345.3\n14        60 2020-12-14    104       132     379.3\n15        60 2020-12-15     98       123     275.0\n16        60 2020-12-16     98       120     215.2\n17        60 2020-12-17    100       120     300.0\n18        45 2020-12-18     90       112       NaN\n19        60 2020-12-19    103       123     323.0\n20        45 2020-12-20     97       125     243.0\n21        60 2020-12-21    108       131     364.2\n22        45        NaT    100       119     282.0\n23        60 2020-12-23    130       101     300.0\n24        45 2020-12-24    105       132     246.0\n25        60 2020-12-25    102       126     334.5\n26        60 2020-12-26    100       120     250.0\n27        60 2020-12-27     92       118     241.0\n28        60 2020-12-28    103       132       NaN\n29        60 2020-12-29    100       132     280.0\n30        60 2020-12-30    102       129     380.3\n31        60 2020-12-31     92       115     243.0\n",
          "output_type": "stream"
        }
      ]
    },
    {
      "cell_type": "markdown",
      "source": "As seen above, the date format for cell 26 has been fixed, as have the rest of the cells under 'Date,' with the exception of cell 22 with a NaT (Not a Time) value. One method for dealing with empty values is to simply delete the entire row. See below:",
      "metadata": {}
    },
    {
      "cell_type": "code",
      "source": "import pandas as pd\n\ndf = pd.read_csv('data.csv')\n\ndf['Date'] = pd.to_datetime(df['Date'])\n\n# The dropna() method can be used to remove the NULL row.\ndf.dropna(subset=['Date'], inplace = True)\n\nprint(df.to_string())          ",
      "metadata": {
        "trusted": true
      },
      "execution_count": 17,
      "outputs": [
        {
          "name": "stdout",
          "text": "    Duration       Date  Pulse  Maxpulse  Calories\n0         60 2020-12-01    110       130     409.1\n1         60 2020-12-02    117       145     479.0\n2         60 2020-12-03    103       135     340.0\n3         45 2020-12-04    109       175     282.4\n4         45 2020-12-05    117       148     406.0\n5         60 2020-12-06    102       127     300.0\n6         60 2020-12-07    110       136     374.0\n7        450 2020-12-08    104       134     253.3\n8         30 2020-12-09    109       133     195.1\n9         60 2020-12-10     98       124     269.0\n10        60 2020-12-11    103       147     329.3\n11        60 2020-12-12    100       120     250.7\n12        60 2020-12-12    100       120     250.7\n13        60 2020-12-13    106       128     345.3\n14        60 2020-12-14    104       132     379.3\n15        60 2020-12-15     98       123     275.0\n16        60 2020-12-16     98       120     215.2\n17        60 2020-12-17    100       120     300.0\n18        45 2020-12-18     90       112       NaN\n19        60 2020-12-19    103       123     323.0\n20        45 2020-12-20     97       125     243.0\n21        60 2020-12-21    108       131     364.2\n23        60 2020-12-23    130       101     300.0\n24        45 2020-12-24    105       132     246.0\n25        60 2020-12-25    102       126     334.5\n26        60 2020-12-26    100       120     250.0\n27        60 2020-12-27     92       118     241.0\n28        60 2020-12-28    103       132       NaN\n29        60 2020-12-29    100       132     280.0\n30        60 2020-12-30    102       129     380.3\n31        60 2020-12-31     92       115     243.0\n",
          "output_type": "stream"
        }
      ]
    },
    {
      "cell_type": "code",
      "source": "Now, cell 22 has been removed!",
      "metadata": {},
      "execution_count": null,
      "outputs": []
    }
  ]
}