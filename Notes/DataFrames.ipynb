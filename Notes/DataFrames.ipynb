{
 "cells": [
  {
   "cell_type": "markdown",
   "metadata": {},
   "source": [
    "**DataFrame**\n",
    "\n",
    "A Pandas DataFrame is a two-dimensional data structure with rows and columns, similar to a two-dimensional array."
   ]
  },
  {
   "cell_type": "code",
   "execution_count": 1,
   "metadata": {},
   "outputs": [
    {
     "name": "stdout",
     "output_type": "stream",
     "text": [
      "   download  upload\n",
      "0        25     1.5\n",
      "1       100    25.0\n",
      "2       500   125.0\n",
      "This is the result for locating a specific row: download    100.0\n",
      "upload       25.0\n",
      "Name: 1, dtype: float64\n"
     ]
    }
   ],
   "source": [
    "import pandas as pd \n",
    "\n",
    "data = {\n",
    "    \"download\": [25, 100, 500],\n",
    "    \"upload\": [1.5, 25, 125]\n",
    "}\n",
    "\n",
    "df = pd.DataFrame(data)\n",
    "\n",
    "print(df)\n",
    "\n",
    "# The loc attribute is used by Pandas to return one or more specified rows(s)\n",
    "\n",
    "print(\"This is the result for locating a specific row:\", df.loc[1])\n",
    "\n",
    "# This instance returns a Pandas Series."
   ]
  },
  {
   "cell_type": "code",
   "execution_count": 3,
   "metadata": {},
   "outputs": [
    {
     "name": "stdout",
     "output_type": "stream",
     "text": [
      "   download  upload\n",
      "0        25     1.5\n",
      "1       100    25.0\n"
     ]
    }
   ],
   "source": [
    "import pandas as pd \n",
    "\n",
    "data = {\n",
    "    \"download\": [25, 100, 500],\n",
    "    \"upload\": [1.5, 25, 125]\n",
    "}\n",
    "\n",
    "df = pd.DataFrame(data)\n",
    "\n",
    "print(df.loc[[0, 1]])\n",
    "\n",
    "# This examples returns a DataFrame. We can identify this by using []\n",
    "\n"
   ]
  },
  {
   "cell_type": "markdown",
   "metadata": {},
   "source": [
    "**Named Indexes**\n",
    "\n",
    "Name indexes with the index argument"
   ]
  },
  {
   "cell_type": "code",
   "execution_count": 5,
   "metadata": {},
   "outputs": [
    {
     "name": "stdout",
     "output_type": "stream",
     "text": [
      "         download  upload\n",
      "device1        25     1.5\n",
      "device2       100    25.0\n",
      "device3       500   125.0\n"
     ]
    }
   ],
   "source": [
    "import pandas as pd \n",
    "\n",
    "data = {\n",
    "    \"download\": [25, 100, 500],\n",
    "    \"upload\": [1.5, 25, 125]\n",
    "}\n",
    "\n",
    "df = pd.DataFrame(data, index = [\"device1\", \"device2\", \"device3\"])\n",
    "\n",
    "print(df)"
   ]
  },
  {
   "cell_type": "markdown",
   "metadata": {},
   "source": [
    "Locate a named index"
   ]
  },
  {
   "cell_type": "code",
   "execution_count": 6,
   "metadata": {},
   "outputs": [
    {
     "name": "stdout",
     "output_type": "stream",
     "text": [
      "download    100.0\n",
      "upload       25.0\n",
      "Name: device2, dtype: float64\n"
     ]
    }
   ],
   "source": [
    "import pandas as pd \n",
    "\n",
    "data = {\n",
    "    \"download\": [25, 100, 500],\n",
    "    \"upload\": [1.5, 25, 125]\n",
    "}\n",
    "\n",
    "df = pd.DataFrame(data, index = [\"device1\", \"device2\", \"device3\"])\n",
    "\n",
    "print(df.loc[\"device2\"])"
   ]
  },
  {
   "cell_type": "code",
   "execution_count": 9,
   "metadata": {},
   "outputs": [
    {
     "name": "stdout",
     "output_type": "stream",
     "text": [
      "download    100.0\n",
      "upload       25.0\n",
      "Name: device2, dtype: float64\n"
     ]
    }
   ],
   "source": [
    "import pandas as pd \n",
    "\n",
    "data = {\n",
    "    \"download\": [25, 100, 500],\n",
    "    \"upload\": [1.5, 25, 125]\n",
    "}\n",
    "\n",
    "df = pd.DataFrame(data, index = [\"device1\", \"device2\", \"device3\"])\n",
    "\n",
    "print(df.loc[\"device2\"])"
   ]
  }
 ],
 "metadata": {
  "kernelspec": {
   "display_name": "Python 3.10.7 64-bit",
   "language": "python",
   "name": "python3"
  },
  "language_info": {
   "codemirror_mode": {
    "name": "ipython",
    "version": 3
   },
   "file_extension": ".py",
   "mimetype": "text/x-python",
   "name": "python",
   "nbconvert_exporter": "python",
   "pygments_lexer": "ipython3",
   "version": "3.10.7"
  },
  "orig_nbformat": 4,
  "vscode": {
   "interpreter": {
    "hash": "26de051ba29f2982a8de78e945f0abaf191376122a1563185a90213a26c5da77"
   }
  }
 },
 "nbformat": 4,
 "nbformat_minor": 2
}
