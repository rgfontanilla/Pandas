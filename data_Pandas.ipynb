{
 "cells": [
  {
   "cell_type": "code",
   "execution_count": 1,
   "metadata": {},
   "outputs": [
    {
     "name": "stdout",
     "output_type": "stream",
     "text": [
      "    cars  passings\n",
      "0    BMW         3\n",
      "1  Volvo         7\n",
      "2   Ford         2\n"
     ]
    }
   ],
   "source": [
    "import pandas as pd\n",
    "\n",
    "mydataset = {\n",
    "  'cars': [\"BMW\", \"Volvo\", \"Ford\"],\n",
    "  'passings': [3, 7, 2]\n",
    "}\n",
    "\n",
    "myvar = pd.DataFrame(mydataset)\n",
    "\n",
    "print(myvar)\n"
   ]
  },
  {
   "cell_type": "markdown",
   "metadata": {},
   "source": [
    "**Series**"
   ]
  },
  {
   "cell_type": "code",
   "execution_count": 2,
   "metadata": {},
   "outputs": [
    {
     "name": "stdout",
     "output_type": "stream",
     "text": [
      "0    2\n",
      "1    4\n",
      "2    6\n",
      "dtype: int64\n"
     ]
    }
   ],
   "source": [
    "# Series \n",
    "# Make a simple Pandas Series out of a list.\n",
    "\n",
    "import pandas as pd\n",
    "\n",
    "n = [2, 4, 6]\n",
    "\n",
    "myvar = pd.Series(n)\n",
    "\n",
    "print(myvar)"
   ]
  },
  {
   "cell_type": "markdown",
   "metadata": {},
   "source": [
    "**Labels**\n"
   ]
  },
  {
   "cell_type": "code",
   "execution_count": 3,
   "metadata": {},
   "outputs": [
    {
     "name": "stdout",
     "output_type": "stream",
     "text": [
      "7\n"
     ]
    }
   ],
   "source": [
    "# Values are identified by their index number.\n",
    "# Use this label to get to a specific value.\n",
    "\n",
    "import pandas as pd\n",
    "\n",
    "n = [2, 4, 6, 7]\n",
    "\n",
    "myvar = pd.Series(n)\n",
    "\n",
    "print(myvar[3])"
   ]
  },
  {
   "cell_type": "markdown",
   "metadata": {},
   "source": [
    "**Create Labels**\n",
    "\n",
    "We can name our own labels using the index argument."
   ]
  },
  {
   "cell_type": "code",
   "execution_count": 13,
   "metadata": {},
   "outputs": [
    {
     "name": "stdout",
     "output_type": "stream",
     "text": [
      "This is the result of using the labels to access an item  7\n",
      "a    3\n",
      "b    5\n",
      "c    7\n",
      "dtype: int64\n"
     ]
    }
   ],
   "source": [
    "import pandas as pd\n",
    "\n",
    "n = [3, 5, 7]\n",
    "\n",
    "myvar = pd.Series(n, index = [\"a\", \"b\", \"c\"])\n",
    "\n",
    "# When you create labels, you can use the label to get to an item.\n",
    "\n",
    "print(\"This is the result of using the labels to access an item \", myvar [\"c\"]) \n",
    "\n",
    "print(myvar)"
   ]
  },
  {
   "cell_type": "markdown",
   "metadata": {},
   "source": [
    "**Series of Key/Value Objects**\n",
    "\n",
    "When creating a Series, we can also use a key/value object, such as a dictionary."
   ]
  },
  {
   "cell_type": "code",
   "execution_count": 14,
   "metadata": {},
   "outputs": [
    {
     "name": "stdout",
     "output_type": "stream",
     "text": [
      "device1    128\n",
      "device2    256\n",
      "device3    512\n",
      "dtype: int64\n"
     ]
    }
   ],
   "source": [
    "import pandas as pd\n",
    "\n",
    "storage = {\"device1\": 128, \"device2\": 256, \"device3\": 512}\n",
    "\n",
    "myvar = pd.Series(storage)\n",
    "\n",
    "print(myvar)"
   ]
  },
  {
   "cell_type": "code",
   "execution_count": 16,
   "metadata": {},
   "outputs": [
    {
     "name": "stdout",
     "output_type": "stream",
     "text": [
      "device2    256\n",
      "device3    512\n",
      "dtype: int64\n"
     ]
    }
   ],
   "source": [
    "# Use the index argument to specify only the items in the dictionary that you want to include in the Series.\n",
    "\n",
    "import pandas as pd\n",
    "\n",
    "storage = {\"device1\": 128, \"device2\": 256, \"device3\": 512}\n",
    "\n",
    "myvar = pd.Series(storage, index = [\"device2\", \"device3\"])\n",
    "\n",
    "print(myvar)"
   ]
  },
  {
   "cell_type": "markdown",
   "metadata": {},
   "source": [
    "**DataFrames**\n",
    "\n",
    "Pandas data sets are typically multi-dimensional tables known as DataFrames.\n",
    "A series is similar to a column, while a DataFrame is the entire table."
   ]
  },
  {
   "cell_type": "code",
   "execution_count": 18,
   "metadata": {},
   "outputs": [
    {
     "name": "stdout",
     "output_type": "stream",
     "text": [
      "   storage   ram\n",
      "0      128   8GB\n",
      "1      256  12GB\n",
      "2      560  12GB\n"
     ]
    }
   ],
   "source": [
    "import pandas as pd \n",
    "\n",
    "data = {\n",
    "    \"storage\": [128, 256, 560],\n",
    "    \"ram\": [\"8GB\", \"12GB\", \"12GB\"]\n",
    "\n",
    "}\n",
    "\n",
    "test = pd.DataFrame(data)\n",
    "\n",
    "print(test)"
   ]
  }
 ],
 "metadata": {
  "kernelspec": {
   "display_name": "Python 3.10.7 64-bit",
   "language": "python",
   "name": "python3"
  },
  "language_info": {
   "codemirror_mode": {
    "name": "ipython",
    "version": 3
   },
   "file_extension": ".py",
   "mimetype": "text/x-python",
   "name": "python",
   "nbconvert_exporter": "python",
   "pygments_lexer": "ipython3",
   "version": "3.10.7"
  },
  "orig_nbformat": 4,
  "vscode": {
   "interpreter": {
    "hash": "26de051ba29f2982a8de78e945f0abaf191376122a1563185a90213a26c5da77"
   }
  }
 },
 "nbformat": 4,
 "nbformat_minor": 2
}
